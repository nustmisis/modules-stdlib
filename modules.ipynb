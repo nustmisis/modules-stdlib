{
 "cells": [
  {
   "cell_type": "markdown",
   "metadata": {},
   "source": [
    "## Модули"
   ]
  },
  {
   "cell_type": "markdown",
   "metadata": {},
   "source": [
    "### Ключевое слово `import`"
   ]
  },
  {
   "cell_type": "code",
   "execution_count": 24,
   "metadata": {},
   "outputs": [
    {
     "name": "stdout",
     "output_type": "stream",
     "text": [
      "0, 1, 1, 2, 3, 5, 8, 13, 21, 34\n",
      "[0, 1, 1, 2, 3, 5, 8, 13, 21, 34]\n"
     ]
    }
   ],
   "source": [
    "import fibo\n",
    "\n",
    "n = 10\n",
    "\n",
    "for i in range(n):\n",
    "    fib_num = fibo.fib(i)\n",
    "    print(fib_num, end=', ' if i != n - 1 else '\\n')\n",
    "\n",
    "print(fibo.fibs(n))"
   ]
  },
  {
   "cell_type": "markdown",
   "metadata": {},
   "source": [
    "### `from ... import ...`"
   ]
  },
  {
   "cell_type": "code",
   "execution_count": 2,
   "metadata": {},
   "outputs": [
    {
     "data": {
      "text/plain": [
       "354224848179261915075"
      ]
     },
     "execution_count": 2,
     "metadata": {},
     "output_type": "execute_result"
    }
   ],
   "source": [
    "from fibo import fib\n",
    "\n",
    "fib(100)"
   ]
  },
  {
   "cell_type": "code",
   "execution_count": 3,
   "metadata": {},
   "outputs": [],
   "source": [
    "del fib\n",
    "del fibo"
   ]
  },
  {
   "cell_type": "markdown",
   "metadata": {},
   "source": [
    "### `from ... import *`"
   ]
  },
  {
   "cell_type": "code",
   "execution_count": 4,
   "metadata": {},
   "outputs": [
    {
     "name": "stdout",
     "output_type": "stream",
     "text": [
      "55\n",
      "[0, 1, 1, 2, 3, 5, 8, 13, 21, 34]\n"
     ]
    }
   ],
   "source": [
    "from fibo import *\n",
    "\n",
    "print(fib(10))\n",
    "print(fibs(10))"
   ]
  },
  {
   "cell_type": "code",
   "execution_count": 5,
   "metadata": {},
   "outputs": [
    {
     "ename": "NameError",
     "evalue": "name '_say' is not defined",
     "output_type": "error",
     "traceback": [
      "\u001b[0;31m---------------------------------------------------------------------------\u001b[0m",
      "\u001b[0;31mNameError\u001b[0m                                 Traceback (most recent call last)",
      "Cell \u001b[0;32mIn[5], line 1\u001b[0m\n\u001b[0;32m----> 1\u001b[0m \u001b[38;5;28mprint\u001b[39m(\u001b[43m_say\u001b[49m(\u001b[38;5;124m\"\u001b[39m\u001b[38;5;124m😳\u001b[39m\u001b[38;5;124m\"\u001b[39m))\n",
      "\u001b[0;31mNameError\u001b[0m: name '_say' is not defined"
     ]
    }
   ],
   "source": [
    "print(_say(\"😳\"))"
   ]
  },
  {
   "cell_type": "markdown",
   "metadata": {},
   "source": [
    "### Запуск модулей"
   ]
  },
  {
   "cell_type": "code",
   "execution_count": null,
   "metadata": {},
   "outputs": [
    {
     "name": "stdout",
     "output_type": "stream",
     "text": [
      "fibo says: \"I am imported\"\n",
      "fibo says: \"I am executed\"\n"
     ]
    }
   ],
   "source": [
    "!python fibo.py"
   ]
  },
  {
   "cell_type": "markdown",
   "metadata": {},
   "source": [
    "## Пакеты"
   ]
  },
  {
   "cell_type": "markdown",
   "metadata": {},
   "source": [
    "Пакеты являются способом организации модулей в иерархическую структуру.\n",
    "\n",
    "Пакет является папкой файловой системы, содержащей файл с названием\n",
    "`__init__.py`. Этот файл может содержать произвольный код или вообще быть\n",
    "пустым. Пакеты могут включать неограниченное число модулей, а также другие\n",
    "пакеты.\n",
    "\n",
    "При следующей структуре файловой системы:\n",
    "\n",
    "<pre>\n",
    "foo/\n",
    "    __init__.py\n",
    "    bar/\n",
    "        __init__.py\n",
    "        baz.py\n",
    "</pre>\n",
    "\n",
    "доступ к функции `spam` модуля `baz.py` можно получить так:\n",
    "\n",
    "```python\n",
    "import foo.bar.baz\n",
    "foo.bar.baz.spam()\n",
    "```\n",
    "\n",
    "или так:\n",
    "\n",
    "```python\n",
    "from foo.bar import baz\n",
    "baz.spam()\n",
    "```\n",
    "\n",
    "или так:\n",
    "\n",
    "```python\n",
    "from foo.bar.baz import spam\n",
    "spam()\n",
    "```\n",
    "\n",
    "При импорте пакета исполняется код в соответствующем файле `__init__.py`. Обычно\n",
    "этот файл содержит код инициализации модуля, но очень часто бывает достаточно\n",
    "оставить его пустым."
   ]
  },
  {
   "cell_type": "markdown",
   "metadata": {},
   "source": [
    "## Стандартные модули"
   ]
  },
  {
   "cell_type": "code",
   "execution_count": 19,
   "metadata": {},
   "outputs": [
    {
     "name": "stdout",
     "output_type": "stream",
     "text": [
      "frozenset({'datetime', 'pydoc', '_crypt', 'time', 'string', '_ssl', 'struct', 'sre_constants', 'lib2to3', 'nt', '_multibytecodec', 'bisect', 'io', '_weakref', '_random', '_opcode', 'tarfile', '_string', 'py_compile', 'random', 'pkgutil', '_posixsubprocess', 'configparser', 'sunau', 'types', 'zoneinfo', 'ensurepip', '__future__', 'aifc', 'typing', 'shlex', '_sha1', 'turtledemo', '_collections', 'stat', 'readline', 'pydoc_data', 'resource', '_scproxy', '_heapq', 'telnetlib', 'compileall', 'weakref', 'numbers', 'fileinput', '_zoneinfo', 'xmlrpc', 'keyword', '_csv', 'ossaudiodev', 'tabnanny', 'copy', '_blake2', 'decimal', '_typing', 'imghdr', 'mailbox', 'imaplib', '_gdbm', 'msilib', '_multiprocessing', 'multiprocessing', '_hashlib', 'getpass', '_markupbase', 'modulefinder', 'calendar', 'genericpath', 'stringprep', '_pydecimal', 'socket', 'pstats', 'secrets', 'mmap', '_compat_pickle', '_tkinter', 'pty', 'ntpath', '_sqlite3', 'socketserver', 'mimetypes', '_signal', 'tkinter', '_uuid', 'binascii', 'http', 'pyexpat', 'inspect', 'profile', 'math', 'sqlite3', 'dis', '_threading_local', 'this', 'tracemalloc', 'difflib', 'pipes', 'bdb', '_pyio', 'wsgiref', '_symtable', 'copyreg', 'nntplib', '_contextvars', 'chunk', 'html', 'rlcompleter', 'fractions', 'hashlib', 'opcode', '_bisect', 'winsound', '_functools', 'logging', 'posix', 'mailcap', 'heapq', 'spwd', 'tokenize', 'xdrlib', '_json', 'token', 'colorsys', 'collections', 'platform', 'optparse', 'traceback', 'builtins', '_msi', 'posixpath', 'subprocess', '_compression', '_warnings', 'pickle', '_decimal', 'enum', 'queue', '_datetime', 'bz2', 'faulthandler', 'zipimport', '_frozen_importlib', '_codecs_iso2022', '_py_abc', '_statistics', 'ast', 'base64', 'cgi', 'contextlib', 'fcntl', 'zipapp', '_codecs_tw', 'asyncio', 'pprint', 'gc', 'json', 'netrc', 'audioop', 'selectors', 'statistics', 'os', '_curses', 'shutil', 'trace', 'unittest', '_codecs_cn', 'csv', 'marshal', '_locale', 'email', '_overlapped', '_tokenize', 'cgitb', 'lzma', 'tempfile', 'unicodedata', 'concurrent', 'turtle', 'antigravity', 'hmac', '_frozen_importlib_external', '_io', 'dbm', 'uu', 'quopri', 'sysconfig', 'contextvars', 'syslog', 'poplib', 'doctest', 'winreg', 'ipaddress', 'cmath', '_strptime', '_sitebuiltins', 'code', '_codecs_hk', '_abc', 're', 'glob', 'shelve', 'atexit', 'site', '_asyncio', 'crypt', '_thread', 'ftplib', 'codecs', 'plistlib', 'sys', '_struct', '_sre', '_codecs_kr', 'smtplib', 'cProfile', 'gettext', 'cmd', 'msvcrt', 'getopt', '_weakrefset', 'venv', 'xml', 'runpy', '_ast', 'pickletools', '_imp', 'functools', 'graphlib', 'signal', 'symtable', 'tomllib', 'sndhdr', 'reprlib', 'pwd', '_pylong', '_socket', 'pathlib', 'codeop', 'filecmp', 'idlelib', 'timeit', 'urllib', '_winapi', 'nis', 'linecache', 'pyclbr', '_pickle', 'termios', '_posixshmem', 'array', 'textwrap', '_elementtree', 'threading', '_curses_panel', 'argparse', '_dbm', 'ctypes', 'encodings', 'grp', '_operator', 'gzip', '_osx_support', '_bz2', 'zipfile', 'wave', '_sha3', 'dataclasses', '_lzma', '_lsprof', 'abc', 'fnmatch', '_codecs', 'locale', 'nturl2path', 'webbrowser', '_aix_support', '_tracemalloc', '_ctypes', 'sre_parse', '_codecs_jp', 'uuid', '_queue', 'operator', '_collections_abc', 'itertools', 'ssl', '_sha2', 'errno', 'importlib', '_md5', 'pdb', 'select', '_pydatetime', 'sre_compile', 'tty', 'sched', 'warnings', 'zlib', '_stat', 'curses'})\n"
     ]
    }
   ],
   "source": [
    "import sys\n",
    "from itertools import batched\n",
    "\n",
    "print(sys.stdlib_module_names)"
   ]
  },
  {
   "cell_type": "code",
   "execution_count": 22,
   "metadata": {},
   "outputs": [
    {
     "name": "stdout",
     "output_type": "stream",
     "text": [
      "datetime, pydoc, time, string, struct, sre_constants, lib2to3, nt, bisect, io\n",
      "tarfile, py_compile, random, pkgutil, configparser, sunau, types, zoneinfo, ensurepip, aifc\n",
      "typing, shlex, turtledemo, stat, readline, pydoc_data, resource, telnetlib, compileall, weakref\n",
      "numbers, fileinput, xmlrpc, keyword, ossaudiodev, tabnanny, copy, decimal, imghdr, mailbox\n",
      "imaplib, msilib, multiprocessing, getpass, modulefinder, calendar, genericpath, stringprep, socket, pstats\n",
      "secrets, mmap, pty, ntpath, socketserver, mimetypes, tkinter, binascii, http, pyexpat\n",
      "inspect, profile, math, sqlite3, dis, this, tracemalloc, difflib, pipes, bdb\n",
      "wsgiref, copyreg, nntplib, chunk, html, rlcompleter, fractions, hashlib, opcode, winsound\n",
      "logging, posix, mailcap, heapq, spwd, tokenize, xdrlib, token, colorsys, collections\n",
      "platform, optparse, traceback, builtins, posixpath, subprocess, pickle, enum, queue, bz2\n",
      "faulthandler, zipimport, ast, base64, cgi, contextlib, fcntl, zipapp, asyncio, pprint\n",
      "gc, json, netrc, audioop, selectors, statistics, os, shutil, trace, unittest\n",
      "csv, marshal, email, cgitb, lzma, tempfile, unicodedata, concurrent, turtle, antigravity\n",
      "hmac, dbm, uu, quopri, sysconfig, contextvars, syslog, poplib, doctest, winreg\n",
      "ipaddress, cmath, code, re, glob, shelve, atexit, site, crypt, ftplib\n",
      "codecs, plistlib, sys, smtplib, cProfile, gettext, cmd, msvcrt, getopt, venv\n",
      "xml, runpy, pickletools, functools, graphlib, signal, symtable, tomllib, sndhdr, reprlib\n",
      "pwd, pathlib, codeop, filecmp, idlelib, timeit, urllib, nis, linecache, pyclbr\n",
      "termios, array, textwrap, threading, argparse, ctypes, encodings, grp, gzip, zipfile\n",
      "wave, dataclasses, abc, fnmatch, locale, nturl2path, webbrowser, sre_parse, uuid, operator\n",
      "itertools, ssl, errno, importlib, pdb, select, sre_compile, tty, sched, warnings\n",
      "zlib, curses\n"
     ]
    }
   ],
   "source": [
    "non_sunder = filter(lambda n: not n.startswith(\"_\"), sys.stdlib_module_names)\n",
    "batched_by_ten = batched(non_sunder, 10)\n",
    "lines = map(\", \".join, batched_by_ten)\n",
    "print(\"\\n\".join(lines))"
   ]
  },
  {
   "cell_type": "markdown",
   "metadata": {},
   "source": [
    "Некоторые стандартные модули:"
   ]
  },
  {
   "cell_type": "code",
   "execution_count": 39,
   "metadata": {},
   "outputs": [
    {
     "name": "stdout",
     "output_type": "stream",
     "text": [
      "/home/vancomm/dev/edu/python-basics-2024/modules-stdlib\n",
      "8\n",
      "['/home/vancomm/dev/edu/python-basics-2024/modules-stdlib/.venv/lib/python3.12/site-packages/ipykernel_launcher.py', '--f=/home/vancomm/.local/share/jupyter/runtime/kernel-v2-85074ItKDd9zyVPNL.json']\n",
      "Hello world\n",
      "2.0\n",
      "['8', '800', '555', '35', '35']\n"
     ]
    }
   ],
   "source": [
    "import os # работа с ОС\n",
    "\n",
    "print(os.getcwd())\n",
    "print(os.cpu_count())"
   ]
  },
  {
   "cell_type": "code",
   "execution_count": null,
   "metadata": {},
   "outputs": [],
   "source": [
    "import sys # взаимодействие с интерпретатором\n",
    "\n",
    "print(sys.argv)\n",
    "sys.stdout.write(\"Hello world\\n\")\n",
    "# sys.exit() # выход из программы"
   ]
  },
  {
   "cell_type": "code",
   "execution_count": null,
   "metadata": {},
   "outputs": [],
   "source": [
    "import re # регулярные выражения\n",
    "print(re.findall(r'\\d+', \"8 800 555 35 35\"))"
   ]
  },
  {
   "cell_type": "code",
   "execution_count": 45,
   "metadata": {},
   "outputs": [
    {
     "name": "stdout",
     "output_type": "stream",
     "text": [
      "2.0\n",
      "2\n",
      "c\n",
      "1.6071428571428572\n",
      "1.25\n"
     ]
    }
   ],
   "source": [
    "import math # математика\n",
    "print(math.log(math.e ** 2))\n",
    "\n",
    "import random # случайные величины\n",
    "print(random.randint(0, 10))\n",
    "print(random.choice([\"a\", \"b\", \"c\"]))\n",
    "\n",
    "import statistics\n",
    "data = [2.75, 1.75, 1.25, 0.25, 0.5, 1.25, 3.5]\n",
    "print(statistics.mean(data))\n",
    "print(statistics.median(data))"
   ]
  },
  {
   "cell_type": "code",
   "execution_count": 53,
   "metadata": {},
   "outputs": [
    {
     "name": "stdout",
     "output_type": "stream",
     "text": [
      "2024-03-05T09:40:11.780875+00:00\n"
     ]
    }
   ],
   "source": [
    "from urllib.request import urlopen # выполнение HTTP-запросов\n",
    "\n",
    "with urlopen(\"http://worldtimeapi.org/api/timezone/etc/UTC.txt\") as response: \n",
    "    for line in response:\n",
    "        line = line.decode()\n",
    "        if line.startswith(\"datetime:\"):\n",
    "            print(line.removeprefix(\"datetime:\").strip())"
   ]
  },
  {
   "cell_type": "code",
   "execution_count": 55,
   "metadata": {},
   "outputs": [
    {
     "name": "stdout",
     "output_type": "stream",
     "text": [
      "2024/03/12\n"
     ]
    }
   ],
   "source": [
    "import datetime # работа с датами\n",
    "\n",
    "now = datetime.datetime.now()\n",
    "a_week = datetime.timedelta(days=7)\n",
    "print((now + a_week).strftime(\"%Y/%m/%d\"))"
   ]
  },
  {
   "cell_type": "code",
   "execution_count": 57,
   "metadata": {},
   "outputs": [
    {
     "name": "stdout",
     "output_type": "stream",
     "text": [
      "<class 'str'> {\"apples\": 10, \"oranges\": [\"first\", \"second\"]}\n",
      "<class 'dict'> {'apples': 10, 'oranges': ['first', 'second']}\n"
     ]
    }
   ],
   "source": [
    "import json  # работа с JSON\n",
    "\n",
    "data = {\"apples\": 10, \"oranges\": [\"first\", \"second\"]}\n",
    "serialized = json.dumps(data)\n",
    "print(type(serialized), serialized)\n",
    "deserialized = json.loads(serialized)\n",
    "print(type(deserialized), deserialized)"
   ]
  },
  {
   "cell_type": "code",
   "execution_count": 60,
   "metadata": {},
   "outputs": [
    {
     "name": "stdout",
     "output_type": "stream",
     "text": [
      "some text\n"
     ]
    }
   ],
   "source": [
    "import pathlib # работа с путями и файлами\n",
    "\n",
    "temp_file = pathlib.Path(\"./tmp.txt\")\n",
    "temp_file.write_text(\"some text\")\n",
    "\n",
    "with open(\"./tmp.txt\") as f:\n",
    "    print(f.read())\n",
    "\n",
    "temp_file.unlink()"
   ]
  }
 ],
 "metadata": {
  "kernelspec": {
   "display_name": ".venv",
   "language": "python",
   "name": "python3"
  },
  "language_info": {
   "codemirror_mode": {
    "name": "ipython",
    "version": 3
   },
   "file_extension": ".py",
   "mimetype": "text/x-python",
   "name": "python",
   "nbconvert_exporter": "python",
   "pygments_lexer": "ipython3",
   "version": "3.12.0"
  }
 },
 "nbformat": 4,
 "nbformat_minor": 2
}
